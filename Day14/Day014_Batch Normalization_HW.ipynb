{
 "cells": [
  {
   "cell_type": "markdown",
   "metadata": {},
   "source": [
    "## 『本次練習內容』\n",
    "#### 搭建 Conv2D-BN-Activation層\n"
   ]
  },
  {
   "cell_type": "markdown",
   "metadata": {},
   "source": [
    "## 『本次練習目的』\n",
    "  #### 了解如何搭建CNN基礎架構，Conv2D-BN-Activation"
   ]
  },
  {
   "cell_type": "code",
   "execution_count": 1,
   "metadata": {},
   "outputs": [],
   "source": [
    "from tensorflow.keras.models import Sequential  #用來啟動 NN\n",
    "from tensorflow.keras.layers import Conv2D  # Convolution Operation\n",
    "from tensorflow.keras.layers import MaxPooling2D # Pooling\n",
    "from tensorflow.keras.layers import Flatten\n",
    "from tensorflow.keras.layers import Dense # Fully Connected Networks\n",
    "from tensorflow.keras.layers import BatchNormalization\n",
    "from tensorflow.keras.layers import Activation"
   ]
  },
  {
   "cell_type": "markdown",
   "metadata": {},
   "source": [
    "## 依照指示建立模型"
   ]
  },
  {
   "cell_type": "code",
   "execution_count": 5,
   "metadata": {},
   "outputs": [
    {
     "output_type": "stream",
     "name": "stdout",
     "text": "Model: \"sequential_3\"\n_________________________________________________________________\nLayer (type)                 Output Shape              Param #   \n=================================================================\nconv2d_4 (Conv2D)            (None, 32, 32, 32)        128       \n_________________________________________________________________\nbatch_normalization_4 (Batch (None, 32, 32, 32)        128       \n_________________________________________________________________\nactivation_4 (Activation)    (None, 32, 32, 32)        0         \n_________________________________________________________________\nconv2d_5 (Conv2D)            (None, 30, 30, 32)        9248      \n_________________________________________________________________\nbatch_normalization_5 (Batch (None, 30, 30, 32)        128       \n_________________________________________________________________\nactivation_5 (Activation)    (None, 30, 30, 32)        0         \n=================================================================\nTotal params: 9,632\nTrainable params: 9,504\nNon-trainable params: 128\n_________________________________________________________________\n"
    }
   ],
   "source": [
    "input_shape = (32, 32, 3)\n",
    "\n",
    "model = Sequential()\n",
    "\n",
    "##  Conv2D-BN-Activation('sigmoid') \n",
    "\n",
    "#BatchNormalization主要參數：\n",
    "#momentum: Momentum for the moving mean and the moving variance.\n",
    "#epsilon: Small float added to variance to avoid dividing by zero.\n",
    "\n",
    "model.add(Conv2D(32, kernel_size=(1,1), input_shape=input_shape))\n",
    "model.add(BatchNormalization(momentum=0.9, epsilon=0.001)) \n",
    "model.add(Activation('sigmoid'))\n",
    "\n",
    "\n",
    "##、 Conv2D-BN-Activation('relu')\n",
    "model.add(Conv2D(32, kernel_size=(3,3), input_shape=input_shape))\n",
    "model.add(BatchNormalization(momentum=0.9, epsilon=0.001)) \n",
    "model.add(Activation('relu'))\n",
    "\n",
    "\n",
    "model.summary()"
   ]
  },
  {
   "cell_type": "code",
   "execution_count": null,
   "metadata": {},
   "outputs": [],
   "source": []
  }
 ],
 "metadata": {
  "kernelspec": {
   "display_name": "Python 3.7.6 64-bit ('MLCourse': conda)",
   "language": "python",
   "name": "python37664bitmlcoursecondadd04030918a44a79b87d2eec4ad46da9"
  },
  "language_info": {
   "codemirror_mode": {
    "name": "ipython",
    "version": 3
   },
   "file_extension": ".py",
   "mimetype": "text/x-python",
   "name": "python",
   "nbconvert_exporter": "python",
   "pygments_lexer": "ipython3",
   "version": "3.7.6-final"
  }
 },
 "nbformat": 4,
 "nbformat_minor": 2
}